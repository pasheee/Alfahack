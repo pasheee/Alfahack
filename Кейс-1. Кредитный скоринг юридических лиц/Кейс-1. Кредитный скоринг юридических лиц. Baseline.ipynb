{
 "cells": [
  {
   "cell_type": "markdown",
   "metadata": {
    "id": "RpfsSXI0joVK"
   },
   "source": [
    "<div align=\"center\">\n",
    "  <img src=\"data:image/png;base64,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\" alt=\"Обложка Baseline\" width=\"600\">\n",
    "</div>"
   ]
  },
  {
   "cell_type": "markdown",
   "metadata": {
    "id": "6-HAYOzsrJs0"
   },
   "source": [
    "## Этап 1. Установка библиотек и импорт данных"
   ]
  },
  {
   "cell_type": "code",
   "execution_count": 4,
   "metadata": {
    "executionInfo": {
     "elapsed": 5,
     "status": "ok",
     "timestamp": 1730467918120,
     "user": {
      "displayName": "Артур Артиков",
      "userId": "02303814087280081703"
     },
     "user_tz": -180
    },
    "id": "Dmp5yUaAqaXa"
   },
   "outputs": [],
   "source": [
    "from sklearn.ensemble import HistGradientBoostingClassifier\n",
    "from sklearn.model_selection import train_test_split\n",
    "from sklearn.metrics import roc_auc_score, roc_curve\n",
    "import pandas as pd\n",
    "import glob\n",
    "import os\n",
    "import matplotlib.pyplot as plt"
   ]
  },
  {
   "cell_type": "markdown",
   "metadata": {
    "id": "BWXmiEHgrael"
   },
   "source": [
    "Подключаемся в Google Drive, чтобы работать с файлами из Google Colaboratory"
   ]
  },
  {
   "cell_type": "markdown",
   "metadata": {
    "id": "FRfYMxczroLZ"
   },
   "source": [
    "Указываем путь к корневым папкам с данными test и train\n",
    "\n",
    "__Обратите внимание:__ если вы создали папку с названием отличным от _\"Хакатон Альфа-банка. Кейс 1\"_, то необходимо поменять путь к директории и ссылки ниже"
   ]
  },
  {
   "cell_type": "code",
   "execution_count": 7,
   "metadata": {
    "executionInfo": {
     "elapsed": 5,
     "status": "ok",
     "timestamp": 1730467922371,
     "user": {
      "displayName": "Артур Артиков",
      "userId": "02303814087280081703"
     },
     "user_tz": -180
    },
    "id": "iv6yqAqSrtHS"
   },
   "outputs": [],
   "source": [
    "# Путь к папке с тренировочными данными\n",
    "path_train = 'train'\n",
    "# Путь к папке с тестовыми данными\n",
    "path_test = 'test'"
   ]
  },
  {
   "cell_type": "markdown",
   "metadata": {
    "id": "XwQc1f_2syP0"
   },
   "source": [
    "Получим список файлов в каждой из папок с данными"
   ]
  },
  {
   "cell_type": "code",
   "execution_count": 9,
   "metadata": {
    "colab": {
     "base_uri": "https://localhost:8080/"
    },
    "executionInfo": {
     "elapsed": 297,
     "status": "ok",
     "timestamp": 1730467922664,
     "user": {
      "displayName": "Артур Артиков",
      "userId": "02303814087280081703"
     },
     "user_tz": -180
    },
    "id": "07H1PTS9s0_2",
    "outputId": "893948b1-6231-4123-f16e-af498fb31123"
   },
   "outputs": [
    {
     "name": "stdout",
     "output_type": "stream",
     "text": [
      "Список файлов в репозитории train: ['train_2.csv', 'train_1.csv', 'train_7.csv', 'train_6.csv', 'train_8.csv', 'train_9.csv', 'train_4.csv', 'train_3.csv', 'train_5.csv', 'train_10.csv']\n",
      "Список файлов в репозитории test: ['test_7.csv', 'test_8.csv', 'test_1.csv', 'test_3.csv', 'test_5.csv', 'test_2.csv', 'test_4.csv', 'test_9.csv', 'test_6.csv', 'test_10.csv']\n"
     ]
    }
   ],
   "source": [
    "print(*[f'Список файлов в репозитории {x.split(\"/\")[-1]}: {sorted(os.listdir(x), key=lambda x: len(x))}' for x in [path_train, path_test]], sep='\\n')"
   ]
  },
  {
   "cell_type": "markdown",
   "metadata": {
    "id": "3rj97D6ivc7u"
   },
   "source": [
    "Объединим тренировочные и тестовые данные в единые датасеты train и test"
   ]
  },
  {
   "cell_type": "code",
   "execution_count": 11,
   "metadata": {
    "id": "w1GtdRGYyo5e"
   },
   "outputs": [
    {
     "data": {
      "text/plain": [
       "'Размерность полных тренировочных данных составляет: 38731 строка и 421 столбец'"
      ]
     },
     "metadata": {},
     "output_type": "display_data"
    },
    {
     "data": {
      "text/html": [
       "<div>\n",
       "<style scoped>\n",
       "    .dataframe tbody tr th:only-of-type {\n",
       "        vertical-align: middle;\n",
       "    }\n",
       "\n",
       "    .dataframe tbody tr th {\n",
       "        vertical-align: top;\n",
       "    }\n",
       "\n",
       "    .dataframe thead th {\n",
       "        text-align: right;\n",
       "    }\n",
       "</style>\n",
       "<table border=\"1\" class=\"dataframe\">\n",
       "  <thead>\n",
       "    <tr style=\"text-align: right;\">\n",
       "      <th></th>\n",
       "      <th>target</th>\n",
       "      <th>smpl</th>\n",
       "      <th>id</th>\n",
       "      <th>feature_1</th>\n",
       "      <th>feature_2</th>\n",
       "      <th>feature_3</th>\n",
       "      <th>feature_4</th>\n",
       "      <th>feature_5</th>\n",
       "      <th>feature_6</th>\n",
       "      <th>feature_7</th>\n",
       "      <th>...</th>\n",
       "      <th>feature_409</th>\n",
       "      <th>feature_410</th>\n",
       "      <th>feature_411</th>\n",
       "      <th>feature_412</th>\n",
       "      <th>feature_413</th>\n",
       "      <th>feature_414</th>\n",
       "      <th>feature_415</th>\n",
       "      <th>feature_416</th>\n",
       "      <th>feature_417</th>\n",
       "      <th>feature_418</th>\n",
       "    </tr>\n",
       "  </thead>\n",
       "  <tbody>\n",
       "    <tr>\n",
       "      <th>0</th>\n",
       "      <td>0</td>\n",
       "      <td>train</td>\n",
       "      <td>3873</td>\n",
       "      <td>0.781053</td>\n",
       "      <td>-2.822431</td>\n",
       "      <td>1.0</td>\n",
       "      <td>-1.297398</td>\n",
       "      <td>-1.616318</td>\n",
       "      <td>-2.682773</td>\n",
       "      <td>-0.780434</td>\n",
       "      <td>...</td>\n",
       "      <td>-1.785225</td>\n",
       "      <td>-0.640910</td>\n",
       "      <td>0.0</td>\n",
       "      <td>-1.112226</td>\n",
       "      <td>-1.306706</td>\n",
       "      <td>-2.016204</td>\n",
       "      <td>-0.215154</td>\n",
       "      <td>-1.161018</td>\n",
       "      <td>-0.431538</td>\n",
       "      <td>0.886027</td>\n",
       "    </tr>\n",
       "    <tr>\n",
       "      <th>1</th>\n",
       "      <td>0</td>\n",
       "      <td>train</td>\n",
       "      <td>3874</td>\n",
       "      <td>-1.610554</td>\n",
       "      <td>-0.004187</td>\n",
       "      <td>1.0</td>\n",
       "      <td>-0.926986</td>\n",
       "      <td>-1.192641</td>\n",
       "      <td>-1.309490</td>\n",
       "      <td>-0.733063</td>\n",
       "      <td>...</td>\n",
       "      <td>-0.372753</td>\n",
       "      <td>-0.583215</td>\n",
       "      <td>0.0</td>\n",
       "      <td>0.931891</td>\n",
       "      <td>0.146103</td>\n",
       "      <td>-0.658290</td>\n",
       "      <td>-0.025485</td>\n",
       "      <td>0.210154</td>\n",
       "      <td>1.099961</td>\n",
       "      <td>-0.918443</td>\n",
       "    </tr>\n",
       "    <tr>\n",
       "      <th>2</th>\n",
       "      <td>0</td>\n",
       "      <td>train</td>\n",
       "      <td>3875</td>\n",
       "      <td>0.606618</td>\n",
       "      <td>-1.456822</td>\n",
       "      <td>0.0</td>\n",
       "      <td>0.780166</td>\n",
       "      <td>0.095048</td>\n",
       "      <td>-0.870786</td>\n",
       "      <td>-0.226350</td>\n",
       "      <td>...</td>\n",
       "      <td>0.165016</td>\n",
       "      <td>-0.449925</td>\n",
       "      <td>0.0</td>\n",
       "      <td>0.756962</td>\n",
       "      <td>-0.020179</td>\n",
       "      <td>0.518931</td>\n",
       "      <td>0.779199</td>\n",
       "      <td>0.936643</td>\n",
       "      <td>0.410800</td>\n",
       "      <td>-0.109610</td>\n",
       "    </tr>\n",
       "    <tr>\n",
       "      <th>3</th>\n",
       "      <td>0</td>\n",
       "      <td>train</td>\n",
       "      <td>3876</td>\n",
       "      <td>0.249014</td>\n",
       "      <td>-0.211661</td>\n",
       "      <td>0.0</td>\n",
       "      <td>0.929687</td>\n",
       "      <td>0.237440</td>\n",
       "      <td>-0.436239</td>\n",
       "      <td>-0.287175</td>\n",
       "      <td>...</td>\n",
       "      <td>0.237139</td>\n",
       "      <td>-0.339358</td>\n",
       "      <td>0.0</td>\n",
       "      <td>1.041432</td>\n",
       "      <td>-0.951589</td>\n",
       "      <td>0.595080</td>\n",
       "      <td>0.854666</td>\n",
       "      <td>1.137475</td>\n",
       "      <td>0.102690</td>\n",
       "      <td>0.182214</td>\n",
       "    </tr>\n",
       "    <tr>\n",
       "      <th>4</th>\n",
       "      <td>0</td>\n",
       "      <td>train</td>\n",
       "      <td>3877</td>\n",
       "      <td>0.169037</td>\n",
       "      <td>1.480832</td>\n",
       "      <td>0.0</td>\n",
       "      <td>-1.955879</td>\n",
       "      <td>-0.372808</td>\n",
       "      <td>-0.536662</td>\n",
       "      <td>-0.509941</td>\n",
       "      <td>...</td>\n",
       "      <td>0.825796</td>\n",
       "      <td>0.179982</td>\n",
       "      <td>0.0</td>\n",
       "      <td>-0.799940</td>\n",
       "      <td>-0.230657</td>\n",
       "      <td>-0.140730</td>\n",
       "      <td>0.268074</td>\n",
       "      <td>0.279254</td>\n",
       "      <td>1.317823</td>\n",
       "      <td>-0.020250</td>\n",
       "    </tr>\n",
       "  </tbody>\n",
       "</table>\n",
       "<p>5 rows × 421 columns</p>\n",
       "</div>"
      ],
      "text/plain": [
       "   target   smpl    id  feature_1  feature_2  feature_3  feature_4  feature_5  \\\n",
       "0       0  train  3873   0.781053  -2.822431        1.0  -1.297398  -1.616318   \n",
       "1       0  train  3874  -1.610554  -0.004187        1.0  -0.926986  -1.192641   \n",
       "2       0  train  3875   0.606618  -1.456822        0.0   0.780166   0.095048   \n",
       "3       0  train  3876   0.249014  -0.211661        0.0   0.929687   0.237440   \n",
       "4       0  train  3877   0.169037   1.480832        0.0  -1.955879  -0.372808   \n",
       "\n",
       "   feature_6  feature_7  ...  feature_409  feature_410  feature_411  \\\n",
       "0  -2.682773  -0.780434  ...    -1.785225    -0.640910          0.0   \n",
       "1  -1.309490  -0.733063  ...    -0.372753    -0.583215          0.0   \n",
       "2  -0.870786  -0.226350  ...     0.165016    -0.449925          0.0   \n",
       "3  -0.436239  -0.287175  ...     0.237139    -0.339358          0.0   \n",
       "4  -0.536662  -0.509941  ...     0.825796     0.179982          0.0   \n",
       "\n",
       "   feature_412  feature_413  feature_414  feature_415  feature_416  \\\n",
       "0    -1.112226    -1.306706    -2.016204    -0.215154    -1.161018   \n",
       "1     0.931891     0.146103    -0.658290    -0.025485     0.210154   \n",
       "2     0.756962    -0.020179     0.518931     0.779199     0.936643   \n",
       "3     1.041432    -0.951589     0.595080     0.854666     1.137475   \n",
       "4    -0.799940    -0.230657    -0.140730     0.268074     0.279254   \n",
       "\n",
       "   feature_417  feature_418  \n",
       "0    -0.431538     0.886027  \n",
       "1     1.099961    -0.918443  \n",
       "2     0.410800    -0.109610  \n",
       "3     0.102690     0.182214  \n",
       "4     1.317823    -0.020250  \n",
       "\n",
       "[5 rows x 421 columns]"
      ]
     },
     "metadata": {},
     "output_type": "display_data"
    },
    {
     "data": {
      "text/plain": [
       "smpl\n",
       "train    38731\n",
       "Name: count, dtype: int64"
      ]
     },
     "execution_count": 11,
     "metadata": {},
     "output_type": "execute_result"
    }
   ],
   "source": [
    "# Получим список путей к файлам в папке train\n",
    "filenames_train = glob.glob(path_train + \"/*.csv\")\n",
    "\n",
    "# Создадим список для записи считанных файлов train\n",
    "data_files_train = []\n",
    "\n",
    "# Считаем все файлы train и добавим их в список\n",
    "for filename in filenames_train:\n",
    "    data_files_train.append(pd.read_csv(filename))\n",
    "\n",
    "# Объединим тренировочные данные в единый датасет\n",
    "data_train = pd.concat(data_files_train, ignore_index=True)\n",
    "\n",
    "# Выведем информацию о размерности полученных тренировочных данных\n",
    "display('Размерность полных тренировочных данных составляет: {} строка и {} столбец'.format(*data_train.shape))\n",
    "\n",
    "# Выведем первые 5 строк тренировочных данных\n",
    "display(data_train.head())\n",
    "\n",
    "# Удостоверимся, что перед нами данные только из выборки train\n",
    "data_train['smpl'].value_counts(dropna=False)"
   ]
  },
  {
   "cell_type": "code",
   "execution_count": 12,
   "metadata": {
    "id": "JDXORpHfzDC9"
   },
   "outputs": [
    {
     "data": {
      "text/plain": [
       "'Размерность полных тренировочных данных составляет: 19826 строк и 420 столбцов'"
      ]
     },
     "metadata": {},
     "output_type": "display_data"
    },
    {
     "data": {
      "text/html": [
       "<div>\n",
       "<style scoped>\n",
       "    .dataframe tbody tr th:only-of-type {\n",
       "        vertical-align: middle;\n",
       "    }\n",
       "\n",
       "    .dataframe tbody tr th {\n",
       "        vertical-align: top;\n",
       "    }\n",
       "\n",
       "    .dataframe thead th {\n",
       "        text-align: right;\n",
       "    }\n",
       "</style>\n",
       "<table border=\"1\" class=\"dataframe\">\n",
       "  <thead>\n",
       "    <tr style=\"text-align: right;\">\n",
       "      <th></th>\n",
       "      <th>smpl</th>\n",
       "      <th>id</th>\n",
       "      <th>feature_1</th>\n",
       "      <th>feature_2</th>\n",
       "      <th>feature_3</th>\n",
       "      <th>feature_4</th>\n",
       "      <th>feature_5</th>\n",
       "      <th>feature_6</th>\n",
       "      <th>feature_7</th>\n",
       "      <th>feature_8</th>\n",
       "      <th>...</th>\n",
       "      <th>feature_409</th>\n",
       "      <th>feature_410</th>\n",
       "      <th>feature_411</th>\n",
       "      <th>feature_412</th>\n",
       "      <th>feature_413</th>\n",
       "      <th>feature_414</th>\n",
       "      <th>feature_415</th>\n",
       "      <th>feature_416</th>\n",
       "      <th>feature_417</th>\n",
       "      <th>feature_418</th>\n",
       "    </tr>\n",
       "  </thead>\n",
       "  <tbody>\n",
       "    <tr>\n",
       "      <th>0</th>\n",
       "      <td>test</td>\n",
       "      <td>50623</td>\n",
       "      <td>0.780327</td>\n",
       "      <td>0.361062</td>\n",
       "      <td>0.0</td>\n",
       "      <td>2.764103</td>\n",
       "      <td>1.616489</td>\n",
       "      <td>0.736463</td>\n",
       "      <td>-0.148703</td>\n",
       "      <td>0.168592</td>\n",
       "      <td>...</td>\n",
       "      <td>1.002889</td>\n",
       "      <td>1.226367</td>\n",
       "      <td>0.0</td>\n",
       "      <td>-0.355301</td>\n",
       "      <td>-0.389552</td>\n",
       "      <td>0.483876</td>\n",
       "      <td>1.027128</td>\n",
       "      <td>-0.343962</td>\n",
       "      <td>0.810925</td>\n",
       "      <td>-0.010408</td>\n",
       "    </tr>\n",
       "    <tr>\n",
       "      <th>1</th>\n",
       "      <td>test</td>\n",
       "      <td>50624</td>\n",
       "      <td>-0.587051</td>\n",
       "      <td>-0.137204</td>\n",
       "      <td>0.0</td>\n",
       "      <td>2.695496</td>\n",
       "      <td>0.374829</td>\n",
       "      <td>2.048571</td>\n",
       "      <td>0.629798</td>\n",
       "      <td>-0.780549</td>\n",
       "      <td>...</td>\n",
       "      <td>0.720086</td>\n",
       "      <td>2.457638</td>\n",
       "      <td>0.0</td>\n",
       "      <td>0.494982</td>\n",
       "      <td>-1.717253</td>\n",
       "      <td>1.833921</td>\n",
       "      <td>0.415229</td>\n",
       "      <td>-0.574724</td>\n",
       "      <td>-0.379890</td>\n",
       "      <td>2.789302</td>\n",
       "    </tr>\n",
       "    <tr>\n",
       "      <th>2</th>\n",
       "      <td>test</td>\n",
       "      <td>50625</td>\n",
       "      <td>0.192754</td>\n",
       "      <td>-0.578836</td>\n",
       "      <td>1.0</td>\n",
       "      <td>-1.189066</td>\n",
       "      <td>-1.576909</td>\n",
       "      <td>-0.296280</td>\n",
       "      <td>-2.094318</td>\n",
       "      <td>-2.631222</td>\n",
       "      <td>...</td>\n",
       "      <td>0.890929</td>\n",
       "      <td>1.236550</td>\n",
       "      <td>0.0</td>\n",
       "      <td>0.563260</td>\n",
       "      <td>0.095650</td>\n",
       "      <td>-0.650888</td>\n",
       "      <td>-2.222571</td>\n",
       "      <td>-0.879643</td>\n",
       "      <td>-0.563460</td>\n",
       "      <td>-0.375700</td>\n",
       "    </tr>\n",
       "    <tr>\n",
       "      <th>3</th>\n",
       "      <td>test</td>\n",
       "      <td>50626</td>\n",
       "      <td>-0.301319</td>\n",
       "      <td>1.561578</td>\n",
       "      <td>1.0</td>\n",
       "      <td>-0.944339</td>\n",
       "      <td>-0.246081</td>\n",
       "      <td>-1.561737</td>\n",
       "      <td>-0.590160</td>\n",
       "      <td>0.568363</td>\n",
       "      <td>...</td>\n",
       "      <td>1.064058</td>\n",
       "      <td>-1.069191</td>\n",
       "      <td>0.0</td>\n",
       "      <td>0.323740</td>\n",
       "      <td>0.586764</td>\n",
       "      <td>-1.718601</td>\n",
       "      <td>-0.404290</td>\n",
       "      <td>-1.469953</td>\n",
       "      <td>-0.077410</td>\n",
       "      <td>0.162986</td>\n",
       "    </tr>\n",
       "    <tr>\n",
       "      <th>4</th>\n",
       "      <td>test</td>\n",
       "      <td>50627</td>\n",
       "      <td>-0.641267</td>\n",
       "      <td>-1.451793</td>\n",
       "      <td>0.0</td>\n",
       "      <td>-0.502273</td>\n",
       "      <td>0.130692</td>\n",
       "      <td>0.750171</td>\n",
       "      <td>0.958844</td>\n",
       "      <td>1.394341</td>\n",
       "      <td>...</td>\n",
       "      <td>0.188559</td>\n",
       "      <td>2.907857</td>\n",
       "      <td>0.0</td>\n",
       "      <td>-0.119988</td>\n",
       "      <td>-0.823482</td>\n",
       "      <td>0.593041</td>\n",
       "      <td>-0.081597</td>\n",
       "      <td>0.397399</td>\n",
       "      <td>1.122533</td>\n",
       "      <td>2.316853</td>\n",
       "    </tr>\n",
       "  </tbody>\n",
       "</table>\n",
       "<p>5 rows × 420 columns</p>\n",
       "</div>"
      ],
      "text/plain": [
       "   smpl     id  feature_1  feature_2  feature_3  feature_4  feature_5  \\\n",
       "0  test  50623   0.780327   0.361062        0.0   2.764103   1.616489   \n",
       "1  test  50624  -0.587051  -0.137204        0.0   2.695496   0.374829   \n",
       "2  test  50625   0.192754  -0.578836        1.0  -1.189066  -1.576909   \n",
       "3  test  50626  -0.301319   1.561578        1.0  -0.944339  -0.246081   \n",
       "4  test  50627  -0.641267  -1.451793        0.0  -0.502273   0.130692   \n",
       "\n",
       "   feature_6  feature_7  feature_8  ...  feature_409  feature_410  \\\n",
       "0   0.736463  -0.148703   0.168592  ...     1.002889     1.226367   \n",
       "1   2.048571   0.629798  -0.780549  ...     0.720086     2.457638   \n",
       "2  -0.296280  -2.094318  -2.631222  ...     0.890929     1.236550   \n",
       "3  -1.561737  -0.590160   0.568363  ...     1.064058    -1.069191   \n",
       "4   0.750171   0.958844   1.394341  ...     0.188559     2.907857   \n",
       "\n",
       "   feature_411  feature_412  feature_413  feature_414  feature_415  \\\n",
       "0          0.0    -0.355301    -0.389552     0.483876     1.027128   \n",
       "1          0.0     0.494982    -1.717253     1.833921     0.415229   \n",
       "2          0.0     0.563260     0.095650    -0.650888    -2.222571   \n",
       "3          0.0     0.323740     0.586764    -1.718601    -0.404290   \n",
       "4          0.0    -0.119988    -0.823482     0.593041    -0.081597   \n",
       "\n",
       "   feature_416  feature_417  feature_418  \n",
       "0    -0.343962     0.810925    -0.010408  \n",
       "1    -0.574724    -0.379890     2.789302  \n",
       "2    -0.879643    -0.563460    -0.375700  \n",
       "3    -1.469953    -0.077410     0.162986  \n",
       "4     0.397399     1.122533     2.316853  \n",
       "\n",
       "[5 rows x 420 columns]"
      ]
     },
     "metadata": {},
     "output_type": "display_data"
    },
    {
     "data": {
      "text/plain": [
       "smpl\n",
       "test    19826\n",
       "Name: count, dtype: int64"
      ]
     },
     "execution_count": 12,
     "metadata": {},
     "output_type": "execute_result"
    }
   ],
   "source": [
    "# Получим список путей к файлам в папке test\n",
    "filenames_test = glob.glob(path_test + \"/*.csv\")\n",
    "\n",
    "# Создадим список для записи считанных файлов test\n",
    "data_files_test = []\n",
    "\n",
    "# Считаем все файлы test и добавим их в список\n",
    "for filename in filenames_test:\n",
    "    data_files_test.append(pd.read_csv(filename))\n",
    "\n",
    "# Объединим тестовые данные в единый датасет\n",
    "data_test = pd.concat(data_files_test, ignore_index=True)\n",
    "\n",
    "# Выведем информацию о размерности полученных тестовых данных\n",
    "display('Размерность полных тренировочных данных составляет: {} строк и {} столбцов'.format(*data_test.shape))\n",
    "\n",
    "# Выведем первые 5 строк тренировочных данных\n",
    "display(data_test.head())\n",
    "\n",
    "# Удостоверимся, что перед нами данные только из выборки test\n",
    "data_test['smpl'].value_counts(dropna=False)"
   ]
  },
  {
   "cell_type": "markdown",
   "metadata": {
    "id": "SsM0gb5X06fF"
   },
   "source": [
    "## Этап 2. Работа с моделью"
   ]
  },
  {
   "cell_type": "code",
   "execution_count": 14,
   "metadata": {
    "id": "YgR6w85z0-2y"
   },
   "outputs": [
    {
     "name": "stdout",
     "output_type": "stream",
     "text": [
      "Метрика roc-auc на валидационных данных имеет значение: 0.7283334567750555\n"
     ]
    }
   ],
   "source": [
    "\n",
    "X = data_train.drop(['target', 'smpl'], axis=1)\n",
    "y = data_train['target']\n",
    "\n",
    "X_train, X_test, y_train, y_test = train_test_split(X, y, random_state=42, stratify=y, test_size=0.3)\n",
    "\n",
    "gbdt_clf = HistGradientBoostingClassifier(min_samples_leaf=1,\n",
    "                                          max_depth=20,\n",
    "                                          max_iter=125,\n",
    "                                          random_state=42).fit(X_train, y_train)\n",
    "\n",
    "y_pred = gbdt_clf.predict_proba(X_test)\n",
    "\n",
    "y_pred = pd.Series(y_pred[:, 1])\n",
    "\n",
    "print(f'Метрика roc-auc на валидационных данных имеет значение: {roc_auc_score(y_test, y_pred)}')"
   ]
  },
  {
   "cell_type": "code",
   "execution_count": 15,
   "metadata": {},
   "outputs": [
    {
     "data": {
      "image/png": "[encoded data removed]",
      "text/plain": [
       "<Figure size 800x600 with 1 Axes>"
      ]
     },
     "metadata": {},
     "output_type": "display_data"
    },
    {
     "name": "stdout",
     "output_type": "stream",
     "text": [
      "[       inf 0.99816539 0.92803877 ... 0.01078671 0.01078063 0.01044173]\n"
     ]
    }
   ],
   "source": [
    "fpr, tpr, thresholds = roc_curve(y_test, y_pred)\n",
    "roc_auc = roc_auc_score(y_test, y_pred)\n",
    "\n",
    "plt.figure(figsize=(8, 6))\n",
    "plt.plot(fpr, tpr, color='darkorange', lw=2, label=f'ROC curve (area = {roc_auc:.2f})')\n",
    "plt.plot([0, 1], [0, 1], color='navy', lw=2, linestyle='--')  # Diagonal line representing random guessing\n",
    "plt.xlim([0.0, 1.0])\n",
    "plt.ylim([0.0, 1.05])\n",
    "plt.xlabel('False Positive Rate')\n",
    "plt.ylabel('True Positive Rate')\n",
    "plt.title('Receiver Operating Characteristic (ROC)')\n",
    "plt.legend(loc=\"lower right\")\n",
    "plt.show()\n",
    "print(thresholds)"
   ]
  },
  {
   "cell_type": "markdown",
   "metadata": {
    "id": "SPiUbGpZjrSx"
   },
   "source": [
    "## Этап 3. Предсказание для тестовых данных\n",
    "\n"
   ]
  },
  {
   "cell_type": "markdown",
   "metadata": {
    "id": "TFFlQ3h2jGo9"
   },
   "source": [
    "Получим предсказание на тестовых данных"
   ]
  },
  {
   "cell_type": "code",
   "execution_count": 18,
   "metadata": {
    "id": "8K4EeqipKYRB"
   },
   "outputs": [],
   "source": [
    "gbdt_clf = HistGradientBoostingClassifier(min_samples_leaf=1,\n",
    "                                          max_depth=20,\n",
    "                                          max_iter=125,\n",
    "                                          random_state=42).fit(X, y)\n",
    "\n",
    "y_test_pred = gbdt_clf.predict_proba(data_test.drop(['smpl'], axis=1))\n",
    "\n",
    "y_test_pred = pd.Series(y_test_pred[:, 1])\n",
    "\n",
    "data_test['target'] = y_test_pred\n",
    "\n",
    "data_test[['id', 'target']].to_csv('baseline_submission_case1.csv', index=False)"
   ]
  },
  {
   "cell_type": "markdown",
   "metadata": {
    "id": "EaHCIcXXvZbi"
   },
   "source": [
    "Baseline создан компанией Changellenge >> - ведущей организацией по кейсам в России, для хакатона Alfa Hack.  \n",
    "\n",
    "Запрещено распространение данного файла, файлов данных в форматах csv, а также текста кейса без письменного разрешения владельца авторских прав в лице компании Changellenge>>."
   ]
  }
 ],
 "metadata": {
  "colab": {
   "authorship_tag": "ABX9TyPbwGuKD2nSqLMCV0I3r6Sg",
   "provenance": []
  },
  "kernelspec": {
   "display_name": "Python 3 (ipykernel)",
   "language": "python",
   "name": "python3"
  },
  "language_info": {
   "codemirror_mode": {
    "name": "ipython",
    "version": 3
   },
   "file_extension": ".py",
   "mimetype": "text/x-python",
   "name": "python",
   "nbconvert_exporter": "python",
   "pygments_lexer": "ipython3",
   "version": "3.12.2"
  }
 },
 "nbformat": 4,
 "nbformat_minor": 4
}
