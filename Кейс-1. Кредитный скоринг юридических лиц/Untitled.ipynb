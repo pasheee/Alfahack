{
 "cells": [
  {
   "cell_type": "code",
   "execution_count": 2,
   "id": "036b6d54-884a-46df-b34a-ef4610374a39",
   "metadata": {},
   "outputs": [],
   "source": [
    "import pandas as pd\n",
    "import numpy as np\n",
    "import torch\n",
    "import torch.nn as nn\n",
    "from sklearn.metrics import roc_auc_score, roc_curve\n",
    "from sklearn.model_selection import train_test_split\n",
    "import glob\n",
    "import os\n",
    "import matplotlib.pyplot as plt\n",
    "from tqdm import tqdm\n",
    "from imblearn.over_sampling import RandomOverSampler, SMOTE\n",
    "import torch.nn.functional as F\n",
    "from torch.utils.data import DataLoader, TensorDataset\n",
    "from torch.optim import AdamW\n",
    "from torch.optim.lr_scheduler import OneCycleLR\n",
    "import torch.optim as optim\n",
    "from sklearn.model_selection import train_test_split\n",
    "from torch.nn.utils import clip_grad_norm_\n",
    "from collections import deque\n",
    "\n",
    "from models import CreditScoringModel, SimplerCreditScoringModel_v1, AdvancedCreditScoringModel_v1, AdvancedCreditScoringModel_v2, AdvancedCreditScoringModel_cat\n",
    "from utils import train_test_model\n",
    "\n",
    "device = torch.device('cuda')\n",
    "torch.cuda.empty_cache()"
   ]
  },
  {
   "cell_type": "code",
   "execution_count": 3,
   "id": "94362672-85bf-47d4-beb9-740e454c970a",
   "metadata": {},
   "outputs": [
    {
     "name": "stdout",
     "output_type": "stream",
     "text": [
      "16\n"
     ]
    }
   ],
   "source": [
    "path_train = 'train'\n",
    "path_test = 'test'\n",
    "filenames_train = glob.glob(path_train + \"/*.csv\")\n",
    "data_files_train = []\n",
    "\n",
    "for filename in filenames_train:\n",
    "    data_files_train.append(pd.read_csv(filename))\n",
    "\n",
    "data_train = pd.concat(data_files_train, ignore_index=True)\n",
    "\n",
    "filenames_test = glob.glob(path_test + \"/*.csv\")\n",
    "\n",
    "data_files_test = []\n",
    "\n",
    "for filename in filenames_test:\n",
    "    data_files_test.append(pd.read_csv(filename))\n",
    "\n",
    "data_test = pd.concat(data_files_test, ignore_index=True)\n",
    "ids = data_test['id']\n",
    "\n",
    "X_train = data_train.drop(['target', 'smpl', 'id'], axis=1)\n",
    "y_train = data_train['target']\n",
    "cat_features = set(['feature_3', 'feature_10', 'feature_12', 'feature_14', 'feature_15', 'feature_17', 'feature_20', 'feature_21', 'feature_23', 'feature_54', 'feature_60', 'feature_70', 'feature_92', 'feature_98', 'feature_101', 'feature_126', 'feature_135', 'feature_137', 'feature_142', 'feature_153', 'feature_179', 'feature_187', 'feature_198', 'feature_242', 'feature_244', 'feature_255', 'feature_270', 'feature_312', 'feature_330', 'feature_339', 'feature_341', 'feature_342', 'feature_372', 'feature_375', 'feature_383', 'feature_396', 'feature_411'])\n",
    "\n",
    "\n",
    "features = X_train.columns\n",
    "idx = {}\n",
    "\n",
    "for i, feature in enumerate(features):\n",
    "    if feature in cat_features:\n",
    "        idx[i] = 0\n",
    "\n",
    "for i, feature in enumerate(features):\n",
    "    if i in idx.keys():\n",
    "        idx[i] = len(set(X_train[feature]))\n",
    "\n",
    "X_test = data_test.drop(['smpl'], axis=1)\n",
    "X_train['feature_411'].value_counts()\n",
    "for i in range(len(X_train['feature_411'])):\n",
    "    if X_train['feature_411'].iloc[i] == 1:\n",
    "        print(i)\n",
    "        break"
   ]
  },
  {
   "cell_type": "code",
   "execution_count": 4,
   "id": "91a57a88-550c-427e-982d-1dfe01332053",
   "metadata": {},
   "outputs": [],
   "source": [
    "# model = SimplerCreditScoringModel_v1(418, droprob = 0.7).double().to(device)\n",
    "# model1, train_losses, val_losses = train_test_model(model, X_train, y_train, batch_size=20000, epochs=100, learning_rate=0.001, resample = False, X_test = X_test, test_size = 0.1)\n",
    "\n",
    "# plt.figure(figsize=(4, 4))\n",
    "# plt.plot(val_losses)\n",
    "# plt.show()\n",
    "# torch.cuda.empty_cache()"
   ]
  },
  {
   "cell_type": "code",
   "execution_count": 5,
   "id": "19ecee11-6997-4911-9784-e1841e3956b7",
   "metadata": {},
   "outputs": [],
   "source": [
    "# model = AdvancedCreditScoringModel_v2(418, droprob = 0.8).double().to(device)\n",
    "# model2, train_losses, val_losses = train_test_model(model, X_train, y_train, batch_size=9000, epochs=50, learning_rate=0.001, resample = True, X_test = X_test, test_size = 0.2)\n",
    "\n",
    "# plt.figure(figsize=(4, 4))\n",
    "# plt.plot(val_losses)\n",
    "# plt.show()\n",
    "# torch.cuda.empty_cache()"
   ]
  },
  {
   "cell_type": "code",
   "execution_count": 6,
   "id": "6d2f437a-c1dd-4c62-bcab-a7fe4f3fd42f",
   "metadata": {},
   "outputs": [],
   "source": [
    "# model = CreditScoringModel(418, droprob = 0.5).double().to(device)\n",
    "# model3, train_losses, val_losses = train_test_model(model, X_train, y_train, batch_size=15000, epochs=50, learning_rate=0.001, resample = True, X_test = X_test, test_size = 0.2)\n",
    "\n",
    "# plt.figure(figsize=(4, 4))\n",
    "# plt.plot(val_losses)\n",
    "# plt.show() \n",
    "# torch.cuda.empty_cache()"
   ]
  },
  {
   "cell_type": "code",
   "execution_count": 7,
   "id": "6e072f06-4c6e-48fa-ac7f-58aaa1e3ce1b",
   "metadata": {},
   "outputs": [
    {
     "name": "stderr",
     "output_type": "stream",
     "text": [
      "/home/pavel/anaconda3/lib/python3.12/site-packages/torch/optim/lr_scheduler.py:62: UserWarning: The verbose parameter is deprecated. Please use get_last_lr() to access the learning rate.\n",
      "  warnings.warn(\n"
     ]
    },
    {
     "name": "stdout",
     "output_type": "stream",
     "text": [
      "tensor(0, device='cuda:0')\n",
      "3\n"
     ]
    },
    {
     "ename": "ValueError",
     "evalue": "Categorical feature at index 410 contains values >= 3",
     "output_type": "error",
     "traceback": [
      "\u001b[0;31m---------------------------------------------------------------------------\u001b[0m",
      "\u001b[0;31mValueError\u001b[0m                                Traceback (most recent call last)",
      "Cell \u001b[0;32mIn[7], line 2\u001b[0m\n\u001b[1;32m      1\u001b[0m model \u001b[38;5;241m=\u001b[39m AdvancedCreditScoringModel_cat(\u001b[38;5;241m418\u001b[39m, cat_dims \u001b[38;5;241m=\u001b[39m idx)\u001b[38;5;241m.\u001b[39mdouble()\u001b[38;5;241m.\u001b[39mto(device)\n\u001b[0;32m----> 2\u001b[0m model4, train_losses, val_losses \u001b[38;5;241m=\u001b[39m train_test_model(model, X_train, y_train, batch_size \u001b[38;5;241m=\u001b[39m \u001b[38;5;241m15000\u001b[39m, epochs \u001b[38;5;241m=\u001b[39m \u001b[38;5;241m50\u001b[39m, learning_rate \u001b[38;5;241m=\u001b[39m \u001b[38;5;241m0.001\u001b[39m, resample \u001b[38;5;241m=\u001b[39m \u001b[38;5;28;01mTrue\u001b[39;00m, X_test \u001b[38;5;241m=\u001b[39m X_test, test_size \u001b[38;5;241m=\u001b[39m \u001b[38;5;241m0.2\u001b[39m)\n\u001b[1;32m      4\u001b[0m plt\u001b[38;5;241m.\u001b[39mfigure(figsize \u001b[38;5;241m=\u001b[39m (\u001b[38;5;241m4\u001b[39m, \u001b[38;5;241m4\u001b[39m))\n\u001b[1;32m      5\u001b[0m plt\u001b[38;5;241m.\u001b[39mplot(val_losses)\n",
      "File \u001b[0;32m~/Alfahack/Кейс-1. Кредитный скоринг юридических лиц/utils.py:175\u001b[0m, in \u001b[0;36mtrain_test_model\u001b[0;34m(model, X, y, X_test, batch_size, epochs, learning_rate, device, resample, test_size, roc)\u001b[0m\n\u001b[1;32m    172\u001b[0m \u001b[38;5;28;01mfor\u001b[39;00m batch_X, batch_y \u001b[38;5;129;01min\u001b[39;00m train_loader:\n\u001b[1;32m    173\u001b[0m     optimizer\u001b[38;5;241m.\u001b[39mzero_grad()\n\u001b[0;32m--> 175\u001b[0m     outputs \u001b[38;5;241m=\u001b[39m model(batch_X\u001b[38;5;241m.\u001b[39mto(device))\u001b[38;5;241m.\u001b[39msqueeze()\n\u001b[1;32m    176\u001b[0m     loss \u001b[38;5;241m=\u001b[39m criterion(outputs, batch_y\u001b[38;5;241m.\u001b[39mto(device))\n\u001b[1;32m    178\u001b[0m     \u001b[38;5;66;03m# Backward pass с градиентным клиппированием\u001b[39;00m\n",
      "File \u001b[0;32m~/anaconda3/lib/python3.12/site-packages/torch/nn/modules/module.py:1736\u001b[0m, in \u001b[0;36mModule._wrapped_call_impl\u001b[0;34m(self, *args, **kwargs)\u001b[0m\n\u001b[1;32m   1734\u001b[0m     \u001b[38;5;28;01mreturn\u001b[39;00m \u001b[38;5;28mself\u001b[39m\u001b[38;5;241m.\u001b[39m_compiled_call_impl(\u001b[38;5;241m*\u001b[39margs, \u001b[38;5;241m*\u001b[39m\u001b[38;5;241m*\u001b[39mkwargs)  \u001b[38;5;66;03m# type: ignore[misc]\u001b[39;00m\n\u001b[1;32m   1735\u001b[0m \u001b[38;5;28;01melse\u001b[39;00m:\n\u001b[0;32m-> 1736\u001b[0m     \u001b[38;5;28;01mreturn\u001b[39;00m \u001b[38;5;28mself\u001b[39m\u001b[38;5;241m.\u001b[39m_call_impl(\u001b[38;5;241m*\u001b[39margs, \u001b[38;5;241m*\u001b[39m\u001b[38;5;241m*\u001b[39mkwargs)\n",
      "File \u001b[0;32m~/anaconda3/lib/python3.12/site-packages/torch/nn/modules/module.py:1747\u001b[0m, in \u001b[0;36mModule._call_impl\u001b[0;34m(self, *args, **kwargs)\u001b[0m\n\u001b[1;32m   1742\u001b[0m \u001b[38;5;66;03m# If we don't have any hooks, we want to skip the rest of the logic in\u001b[39;00m\n\u001b[1;32m   1743\u001b[0m \u001b[38;5;66;03m# this function, and just call forward.\u001b[39;00m\n\u001b[1;32m   1744\u001b[0m \u001b[38;5;28;01mif\u001b[39;00m \u001b[38;5;129;01mnot\u001b[39;00m (\u001b[38;5;28mself\u001b[39m\u001b[38;5;241m.\u001b[39m_backward_hooks \u001b[38;5;129;01mor\u001b[39;00m \u001b[38;5;28mself\u001b[39m\u001b[38;5;241m.\u001b[39m_backward_pre_hooks \u001b[38;5;129;01mor\u001b[39;00m \u001b[38;5;28mself\u001b[39m\u001b[38;5;241m.\u001b[39m_forward_hooks \u001b[38;5;129;01mor\u001b[39;00m \u001b[38;5;28mself\u001b[39m\u001b[38;5;241m.\u001b[39m_forward_pre_hooks\n\u001b[1;32m   1745\u001b[0m         \u001b[38;5;129;01mor\u001b[39;00m _global_backward_pre_hooks \u001b[38;5;129;01mor\u001b[39;00m _global_backward_hooks\n\u001b[1;32m   1746\u001b[0m         \u001b[38;5;129;01mor\u001b[39;00m _global_forward_hooks \u001b[38;5;129;01mor\u001b[39;00m _global_forward_pre_hooks):\n\u001b[0;32m-> 1747\u001b[0m     \u001b[38;5;28;01mreturn\u001b[39;00m forward_call(\u001b[38;5;241m*\u001b[39margs, \u001b[38;5;241m*\u001b[39m\u001b[38;5;241m*\u001b[39mkwargs)\n\u001b[1;32m   1749\u001b[0m result \u001b[38;5;241m=\u001b[39m \u001b[38;5;28;01mNone\u001b[39;00m\n\u001b[1;32m   1750\u001b[0m called_always_called_hooks \u001b[38;5;241m=\u001b[39m \u001b[38;5;28mset\u001b[39m()\n",
      "File \u001b[0;32m~/Alfahack/Кейс-1. Кредитный скоринг юридических лиц/models.py:407\u001b[0m, in \u001b[0;36mAdvancedCreditScoringModel_cat.forward\u001b[0;34m(self, x)\u001b[0m\n\u001b[1;32m    406\u001b[0m \u001b[38;5;28;01mdef\u001b[39;00m \u001b[38;5;21mforward\u001b[39m(\u001b[38;5;28mself\u001b[39m, x):\n\u001b[0;32m--> 407\u001b[0m     x \u001b[38;5;241m=\u001b[39m \u001b[38;5;28mself\u001b[39m\u001b[38;5;241m.\u001b[39m_process_categorical_features(x)\n\u001b[1;32m    409\u001b[0m     trans_out \u001b[38;5;241m=\u001b[39m \u001b[38;5;28mself\u001b[39m\u001b[38;5;241m.\u001b[39mtransformer(x\u001b[38;5;241m.\u001b[39munsqueeze(\u001b[38;5;241m1\u001b[39m))\u001b[38;5;241m.\u001b[39msqueeze(\u001b[38;5;241m1\u001b[39m)\n\u001b[1;32m    411\u001b[0m     lstm_out, _ \u001b[38;5;241m=\u001b[39m \u001b[38;5;28mself\u001b[39m\u001b[38;5;241m.\u001b[39mlstm(x\u001b[38;5;241m.\u001b[39munsqueeze(\u001b[38;5;241m1\u001b[39m))\n",
      "File \u001b[0;32m~/Alfahack/Кейс-1. Кредитный скоринг юридических лиц/models.py:393\u001b[0m, in \u001b[0;36mAdvancedCreditScoringModel_cat._process_categorical_features\u001b[0;34m(self, x)\u001b[0m\n\u001b[1;32m    391\u001b[0m \u001b[38;5;28mprint\u001b[39m(max_cat)\n\u001b[1;32m    392\u001b[0m \u001b[38;5;28;01mif\u001b[39;00m torch\u001b[38;5;241m.\u001b[39mmax(cat_feature) \u001b[38;5;241m>\u001b[39m\u001b[38;5;241m=\u001b[39m max_cat:\n\u001b[0;32m--> 393\u001b[0m     \u001b[38;5;28;01mraise\u001b[39;00m \u001b[38;5;167;01mValueError\u001b[39;00m(\u001b[38;5;124mf\u001b[39m\u001b[38;5;124m\"\u001b[39m\u001b[38;5;124mCategorical feature at index \u001b[39m\u001b[38;5;132;01m{\u001b[39;00mfeat_idx\u001b[38;5;132;01m}\u001b[39;00m\u001b[38;5;124m contains values >= \u001b[39m\u001b[38;5;132;01m{\u001b[39;00mmax_cat\u001b[38;5;132;01m}\u001b[39;00m\u001b[38;5;124m\"\u001b[39m)\n\u001b[1;32m    394\u001b[0m embedded \u001b[38;5;241m=\u001b[39m \u001b[38;5;28mself\u001b[39m\u001b[38;5;241m.\u001b[39membedding_layers[\u001b[38;5;28mstr\u001b[39m(feat_idx)](cat_feature)\n\u001b[1;32m    395\u001b[0m embedding_outputs\u001b[38;5;241m.\u001b[39mappend(embedded)\n",
      "\u001b[0;31mValueError\u001b[0m: Categorical feature at index 410 contains values >= 3"
     ]
    }
   ],
   "source": [
    "model = AdvancedCreditScoringModel_cat(418, cat_dims = idx).double().to(device)\n",
    "model4, train_losses, val_losses = train_test_model(model, X_train, y_train, batch_size = 15000, epochs = 50, learning_rate = 0.001, resample = True, X_test = X_test, test_size = 0.2)\n",
    "\n",
    "plt.figure(figsize = (4, 4))\n",
    "plt.plot(val_losses)\n",
    "plt.show()\n",
    "torch.cuda.empty_cache()"
   ]
  },
  {
   "cell_type": "code",
   "execution_count": null,
   "id": "0e6c07cf-80a5-4f99-a1c5-2239a2b41dee",
   "metadata": {},
   "outputs": [],
   "source": []
  }
 ],
 "metadata": {
  "kernelspec": {
   "display_name": "Python 3 (ipykernel)",
   "language": "python",
   "name": "python3"
  },
  "language_info": {
   "codemirror_mode": {
    "name": "ipython",
    "version": 3
   },
   "file_extension": ".py",
   "mimetype": "text/x-python",
   "name": "python",
   "nbconvert_exporter": "python",
   "pygments_lexer": "ipython3",
   "version": "3.12.2"
  }
 },
 "nbformat": 4,
 "nbformat_minor": 5
}
